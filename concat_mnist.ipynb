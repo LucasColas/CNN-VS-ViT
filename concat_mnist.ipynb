{
  "cells": [
    {
      "cell_type": "markdown",
      "id": "18b6600d",
      "metadata": {
        "id": "18b6600d"
      },
      "source": [
        "# Loading packages"
      ]
    },
    {
      "cell_type": "code",
      "source": [
        "!pip install medmnist"
      ],
      "metadata": {
        "colab": {
          "base_uri": "https://localhost:8080/"
        },
        "id": "-S_0w3HzRyyj",
        "outputId": "a2e48941-72f2-44f1-edf7-1a23d587100a"
      },
      "id": "-S_0w3HzRyyj",
      "execution_count": 1,
      "outputs": [
        {
          "output_type": "stream",
          "name": "stdout",
          "text": [
            "Requirement already satisfied: medmnist in /usr/local/lib/python3.11/dist-packages (3.0.2)\n",
            "Requirement already satisfied: numpy in /usr/local/lib/python3.11/dist-packages (from medmnist) (2.0.2)\n",
            "Requirement already satisfied: pandas in /usr/local/lib/python3.11/dist-packages (from medmnist) (2.2.2)\n",
            "Requirement already satisfied: scikit-learn in /usr/local/lib/python3.11/dist-packages (from medmnist) (1.6.1)\n",
            "Requirement already satisfied: scikit-image in /usr/local/lib/python3.11/dist-packages (from medmnist) (0.25.2)\n",
            "Requirement already satisfied: tqdm in /usr/local/lib/python3.11/dist-packages (from medmnist) (4.67.1)\n",
            "Requirement already satisfied: Pillow in /usr/local/lib/python3.11/dist-packages (from medmnist) (11.1.0)\n",
            "Requirement already satisfied: fire in /usr/local/lib/python3.11/dist-packages (from medmnist) (0.7.0)\n",
            "Requirement already satisfied: torch in /usr/local/lib/python3.11/dist-packages (from medmnist) (2.6.0+cu124)\n",
            "Requirement already satisfied: torchvision in /usr/local/lib/python3.11/dist-packages (from medmnist) (0.21.0+cu124)\n",
            "Requirement already satisfied: termcolor in /usr/local/lib/python3.11/dist-packages (from fire->medmnist) (3.0.1)\n",
            "Requirement already satisfied: python-dateutil>=2.8.2 in /usr/local/lib/python3.11/dist-packages (from pandas->medmnist) (2.8.2)\n",
            "Requirement already satisfied: pytz>=2020.1 in /usr/local/lib/python3.11/dist-packages (from pandas->medmnist) (2025.2)\n",
            "Requirement already satisfied: tzdata>=2022.7 in /usr/local/lib/python3.11/dist-packages (from pandas->medmnist) (2025.2)\n",
            "Requirement already satisfied: scipy>=1.11.4 in /usr/local/lib/python3.11/dist-packages (from scikit-image->medmnist) (1.14.1)\n",
            "Requirement already satisfied: networkx>=3.0 in /usr/local/lib/python3.11/dist-packages (from scikit-image->medmnist) (3.4.2)\n",
            "Requirement already satisfied: imageio!=2.35.0,>=2.33 in /usr/local/lib/python3.11/dist-packages (from scikit-image->medmnist) (2.37.0)\n",
            "Requirement already satisfied: tifffile>=2022.8.12 in /usr/local/lib/python3.11/dist-packages (from scikit-image->medmnist) (2025.3.30)\n",
            "Requirement already satisfied: packaging>=21 in /usr/local/lib/python3.11/dist-packages (from scikit-image->medmnist) (24.2)\n",
            "Requirement already satisfied: lazy-loader>=0.4 in /usr/local/lib/python3.11/dist-packages (from scikit-image->medmnist) (0.4)\n",
            "Requirement already satisfied: joblib>=1.2.0 in /usr/local/lib/python3.11/dist-packages (from scikit-learn->medmnist) (1.4.2)\n",
            "Requirement already satisfied: threadpoolctl>=3.1.0 in /usr/local/lib/python3.11/dist-packages (from scikit-learn->medmnist) (3.6.0)\n",
            "Requirement already satisfied: filelock in /usr/local/lib/python3.11/dist-packages (from torch->medmnist) (3.18.0)\n",
            "Requirement already satisfied: typing-extensions>=4.10.0 in /usr/local/lib/python3.11/dist-packages (from torch->medmnist) (4.13.1)\n",
            "Requirement already satisfied: jinja2 in /usr/local/lib/python3.11/dist-packages (from torch->medmnist) (3.1.6)\n",
            "Requirement already satisfied: fsspec in /usr/local/lib/python3.11/dist-packages (from torch->medmnist) (2024.12.0)\n",
            "Requirement already satisfied: nvidia-cuda-nvrtc-cu12==12.4.127 in /usr/local/lib/python3.11/dist-packages (from torch->medmnist) (12.4.127)\n",
            "Requirement already satisfied: nvidia-cuda-runtime-cu12==12.4.127 in /usr/local/lib/python3.11/dist-packages (from torch->medmnist) (12.4.127)\n",
            "Requirement already satisfied: nvidia-cuda-cupti-cu12==12.4.127 in /usr/local/lib/python3.11/dist-packages (from torch->medmnist) (12.4.127)\n",
            "Requirement already satisfied: nvidia-cudnn-cu12==9.1.0.70 in /usr/local/lib/python3.11/dist-packages (from torch->medmnist) (9.1.0.70)\n",
            "Requirement already satisfied: nvidia-cublas-cu12==12.4.5.8 in /usr/local/lib/python3.11/dist-packages (from torch->medmnist) (12.4.5.8)\n",
            "Requirement already satisfied: nvidia-cufft-cu12==11.2.1.3 in /usr/local/lib/python3.11/dist-packages (from torch->medmnist) (11.2.1.3)\n",
            "Requirement already satisfied: nvidia-curand-cu12==10.3.5.147 in /usr/local/lib/python3.11/dist-packages (from torch->medmnist) (10.3.5.147)\n",
            "Requirement already satisfied: nvidia-cusolver-cu12==11.6.1.9 in /usr/local/lib/python3.11/dist-packages (from torch->medmnist) (11.6.1.9)\n",
            "Requirement already satisfied: nvidia-cusparse-cu12==12.3.1.170 in /usr/local/lib/python3.11/dist-packages (from torch->medmnist) (12.3.1.170)\n",
            "Requirement already satisfied: nvidia-cusparselt-cu12==0.6.2 in /usr/local/lib/python3.11/dist-packages (from torch->medmnist) (0.6.2)\n",
            "Requirement already satisfied: nvidia-nccl-cu12==2.21.5 in /usr/local/lib/python3.11/dist-packages (from torch->medmnist) (2.21.5)\n",
            "Requirement already satisfied: nvidia-nvtx-cu12==12.4.127 in /usr/local/lib/python3.11/dist-packages (from torch->medmnist) (12.4.127)\n",
            "Requirement already satisfied: nvidia-nvjitlink-cu12==12.4.127 in /usr/local/lib/python3.11/dist-packages (from torch->medmnist) (12.4.127)\n",
            "Requirement already satisfied: triton==3.2.0 in /usr/local/lib/python3.11/dist-packages (from torch->medmnist) (3.2.0)\n",
            "Requirement already satisfied: sympy==1.13.1 in /usr/local/lib/python3.11/dist-packages (from torch->medmnist) (1.13.1)\n",
            "Requirement already satisfied: mpmath<1.4,>=1.1.0 in /usr/local/lib/python3.11/dist-packages (from sympy==1.13.1->torch->medmnist) (1.3.0)\n",
            "Requirement already satisfied: six>=1.5 in /usr/local/lib/python3.11/dist-packages (from python-dateutil>=2.8.2->pandas->medmnist) (1.17.0)\n",
            "Requirement already satisfied: MarkupSafe>=2.0 in /usr/local/lib/python3.11/dist-packages (from jinja2->torch->medmnist) (3.0.2)\n"
          ]
        }
      ]
    },
    {
      "cell_type": "code",
      "source": [
        "from transformers import ViTImageProcessor, ViTForImageClassification, ViTConfig, ViTModel\n",
        "from PIL import Image\n",
        "import requests\n",
        "from medmnist import OCTMNIST, PathMNIST, DermaMNIST, RetinaMNIST, BloodMNIST\n",
        "import torch\n",
        "import matplotlib.pyplot as plt\n",
        "from torchvision import transforms\n",
        "from medmnist import INFO, Evaluator\n",
        "from torch.utils.data import DataLoader, Dataset, ConcatDataset, Subset\n",
        "import numpy as np\n",
        "from evaluate import load\n",
        "from transformers import TrainingArguments, Trainer\n",
        "import os\n",
        "from fastai.vision.augment import Resize, ResizeMethod\n",
        "from matplotlib.pyplot import imshow\n",
        "from torchvision.transforms import v2"
      ],
      "metadata": {
        "id": "-W_POCfzR1zA"
      },
      "id": "-W_POCfzR1zA",
      "execution_count": 2,
      "outputs": []
    },
    {
      "cell_type": "markdown",
      "source": [
        "# Loading MNIST datasets"
      ],
      "metadata": {
        "id": "yy-xS-hzSDBs"
      },
      "id": "yy-xS-hzSDBs"
    },
    {
      "cell_type": "code",
      "source": [
        "path_dataset = PathMNIST(split=\"train\", download=True)\n",
        "path_dataset"
      ],
      "metadata": {
        "colab": {
          "base_uri": "https://localhost:8080/"
        },
        "id": "TTV3nwlFR-5A",
        "outputId": "35443245-2fcc-45c3-9460-1a82df8e9626"
      },
      "id": "TTV3nwlFR-5A",
      "execution_count": 3,
      "outputs": [
        {
          "output_type": "execute_result",
          "data": {
            "text/plain": [
              "Dataset PathMNIST of size 28 (pathmnist)\n",
              "    Number of datapoints: 89996\n",
              "    Root location: /root/.medmnist\n",
              "    Split: train\n",
              "    Task: multi-class\n",
              "    Number of channels: 3\n",
              "    Meaning of labels: {'0': 'adipose', '1': 'background', '2': 'debris', '3': 'lymphocytes', '4': 'mucus', '5': 'smooth muscle', '6': 'normal colon mucosa', '7': 'cancer-associated stroma', '8': 'colorectal adenocarcinoma epithelium'}\n",
              "    Number of samples: {'train': 89996, 'val': 10004, 'test': 7180}\n",
              "    Description: The PathMNIST is based on a prior study for predicting survival from colorectal cancer histology slides, providing a dataset (NCT-CRC-HE-100K) of 100,000 non-overlapping image patches from hematoxylin & eosin stained histological images, and a test dataset (CRC-VAL-HE-7K) of 7,180 image patches from a different clinical center. The dataset is comprised of 9 types of tissues, resulting in a multi-class classification task. We resize the source images of 3×224×224 into 3×28×28, and split NCT-CRC-HE-100K into training and validation set with a ratio of 9:1. The CRC-VAL-HE-7K is treated as the test set.\n",
              "    License: CC BY 4.0"
            ]
          },
          "metadata": {},
          "execution_count": 3
        }
      ]
    },
    {
      "cell_type": "code",
      "source": [
        "derma_dataset = DermaMNIST(split=\"train\", download=True)\n",
        "derma_dataset"
      ],
      "metadata": {
        "colab": {
          "base_uri": "https://localhost:8080/"
        },
        "id": "W3w3IhqWSGz_",
        "outputId": "ad83f463-1927-47cb-ca44-17ebe38bfbd4"
      },
      "id": "W3w3IhqWSGz_",
      "execution_count": 4,
      "outputs": [
        {
          "output_type": "execute_result",
          "data": {
            "text/plain": [
              "Dataset DermaMNIST of size 28 (dermamnist)\n",
              "    Number of datapoints: 7007\n",
              "    Root location: /root/.medmnist\n",
              "    Split: train\n",
              "    Task: multi-class\n",
              "    Number of channels: 3\n",
              "    Meaning of labels: {'0': 'actinic keratoses and intraepithelial carcinoma', '1': 'basal cell carcinoma', '2': 'benign keratosis-like lesions', '3': 'dermatofibroma', '4': 'melanoma', '5': 'melanocytic nevi', '6': 'vascular lesions'}\n",
              "    Number of samples: {'train': 7007, 'val': 1003, 'test': 2005}\n",
              "    Description: The DermaMNIST is based on the HAM10000, a large collection of multi-source dermatoscopic images of common pigmented skin lesions. The dataset consists of 10,015 dermatoscopic images categorized as 7 different diseases, formulized as a multi-class classification task. We split the images into training, validation and test set with a ratio of 7:1:2. The source images of 3×600×450 are resized into 3×28×28.\n",
              "    License: CC BY-NC 4.0"
            ]
          },
          "metadata": {},
          "execution_count": 4
        }
      ]
    },
    {
      "cell_type": "code",
      "source": [
        "blood_dataset = BloodMNIST(split=\"train\", download=True)\n",
        "blood_dataset"
      ],
      "metadata": {
        "colab": {
          "base_uri": "https://localhost:8080/"
        },
        "id": "wApuJChCSID2",
        "outputId": "4a853035-c366-408d-e36c-4f4a15d7db5c"
      },
      "id": "wApuJChCSID2",
      "execution_count": 5,
      "outputs": [
        {
          "output_type": "execute_result",
          "data": {
            "text/plain": [
              "Dataset BloodMNIST of size 28 (bloodmnist)\n",
              "    Number of datapoints: 11959\n",
              "    Root location: /root/.medmnist\n",
              "    Split: train\n",
              "    Task: multi-class\n",
              "    Number of channels: 3\n",
              "    Meaning of labels: {'0': 'basophil', '1': 'eosinophil', '2': 'erythroblast', '3': 'immature granulocytes(myelocytes, metamyelocytes and promyelocytes)', '4': 'lymphocyte', '5': 'monocyte', '6': 'neutrophil', '7': 'platelet'}\n",
              "    Number of samples: {'train': 11959, 'val': 1712, 'test': 3421}\n",
              "    Description: The BloodMNIST is based on a dataset of individual normal cells, captured from individuals without infection, hematologic or oncologic disease and free of any pharmacologic treatment at the moment of blood collection. It contains a total of 17,092 images and is organized into 8 classes. We split the source dataset with a ratio of 7:1:2 into training, validation and test set. The source images with resolution 3×360×363 pixels are center-cropped into 3×200×200, and then resized into 3×28×28.\n",
              "    License: CC BY 4.0"
            ]
          },
          "metadata": {},
          "execution_count": 5
        }
      ]
    },
    {
      "cell_type": "code",
      "source": [
        "retina_dataset = RetinaMNIST(split=\"train\", download=True)\n",
        "retina_dataset"
      ],
      "metadata": {
        "colab": {
          "base_uri": "https://localhost:8080/"
        },
        "id": "_y-OoDZbSIcy",
        "outputId": "03ad2f34-f7d6-4a04-88f0-db072b61e117"
      },
      "id": "_y-OoDZbSIcy",
      "execution_count": 6,
      "outputs": [
        {
          "output_type": "execute_result",
          "data": {
            "text/plain": [
              "Dataset RetinaMNIST of size 28 (retinamnist)\n",
              "    Number of datapoints: 1080\n",
              "    Root location: /root/.medmnist\n",
              "    Split: train\n",
              "    Task: ordinal-regression\n",
              "    Number of channels: 3\n",
              "    Meaning of labels: {'0': '0', '1': '1', '2': '2', '3': '3', '4': '4'}\n",
              "    Number of samples: {'train': 1080, 'val': 120, 'test': 400}\n",
              "    Description: The RetinaMNIST is based on the DeepDRiD challenge, which provides a dataset of 1,600 retina fundus images. The task is ordinal regression for 5-level grading of diabetic retinopathy severity. We split the source training set with a ratio of 9:1 into training and validation set, and use the source validation set as the test set. The source images of 3×1,736×1,824 are center-cropped and resized into 3×28×28.\n",
              "    License: CC BY 4.0"
            ]
          },
          "metadata": {},
          "execution_count": 6
        }
      ]
    },
    {
      "cell_type": "markdown",
      "source": [
        "# Updating labels of MNIST datasets"
      ],
      "metadata": {
        "id": "nw9ugAJCSOKS"
      },
      "id": "nw9ugAJCSOKS"
    },
    {
      "cell_type": "markdown",
      "source": [
        "prevent concat dataset to have labels with same index but different values"
      ],
      "metadata": {
        "id": "B3pWncGBUTJ0"
      },
      "id": "B3pWncGBUTJ0"
    },
    {
      "cell_type": "code",
      "source": [
        "class UpdateLabelsMNSIT(Dataset):\n",
        "  def __init__(self, dataset, labels_shift):\n",
        "    self.dataset = dataset\n",
        "    self.labels_shift = labels_shift\n",
        "\n",
        "  def __len__(self):\n",
        "    return len(self.dataset)\n",
        "\n",
        "  def __getitem__(self, idx):\n",
        "    image, label = self.dataset[idx]\n",
        "    label = label + self.labels_shift\n",
        "    return image, label\n",
        "\n",
        "updated_derma_dataset = UpdateLabelsMNSIT(derma_dataset, 9)\n",
        "updated_blood_dataset = UpdateLabelsMNSIT(blood_dataset, 16)\n",
        "updated_retina_dataset = UpdateLabelsMNSIT(retina_dataset, 24)"
      ],
      "metadata": {
        "id": "QoxQAt3rSLco"
      },
      "id": "QoxQAt3rSLco",
      "execution_count": 7,
      "outputs": []
    },
    {
      "cell_type": "code",
      "source": [
        "concat_datasets = torch.utils.data.ConcatDataset([path_dataset, updated_derma_dataset, updated_blood_dataset, updated_retina_dataset])"
      ],
      "metadata": {
        "id": "jBIFz9m3SmwP"
      },
      "id": "jBIFz9m3SmwP",
      "execution_count": 8,
      "outputs": []
    },
    {
      "cell_type": "code",
      "source": [
        "concat_datasets[89995] # Path MNIST"
      ],
      "metadata": {
        "colab": {
          "base_uri": "https://localhost:8080/"
        },
        "id": "QANE1dadStKD",
        "outputId": "9609d1ad-d229-437f-b54a-f1c3b4c8f1b6"
      },
      "id": "QANE1dadStKD",
      "execution_count": 9,
      "outputs": [
        {
          "output_type": "execute_result",
          "data": {
            "text/plain": [
              "(<PIL.Image.Image image mode=RGB size=28x28>, array([2]))"
            ]
          },
          "metadata": {},
          "execution_count": 9
        }
      ]
    },
    {
      "cell_type": "code",
      "source": [
        "concat_datasets[89996] # Derma MNIST"
      ],
      "metadata": {
        "colab": {
          "base_uri": "https://localhost:8080/"
        },
        "id": "FHu64T44SvF6",
        "outputId": "b65f4e57-ea3c-4c69-fef0-8d8d5618eed3"
      },
      "id": "FHu64T44SvF6",
      "execution_count": 10,
      "outputs": [
        {
          "output_type": "execute_result",
          "data": {
            "text/plain": [
              "(<PIL.Image.Image image mode=RGB size=28x28>, array([9]))"
            ]
          },
          "metadata": {},
          "execution_count": 10
        }
      ]
    },
    {
      "cell_type": "code",
      "source": [
        "concat_datasets[97004] # Blood MNIST"
      ],
      "metadata": {
        "colab": {
          "base_uri": "https://localhost:8080/"
        },
        "id": "a2STHGknSvJT",
        "outputId": "d3dfab70-9ffc-4fc3-a78f-577a978acfd2"
      },
      "id": "a2STHGknSvJT",
      "execution_count": 11,
      "outputs": [
        {
          "output_type": "execute_result",
          "data": {
            "text/plain": [
              "(<PIL.Image.Image image mode=RGB size=28x28>, array([19]))"
            ]
          },
          "metadata": {},
          "execution_count": 11
        }
      ]
    },
    {
      "cell_type": "code",
      "source": [
        "concat_datasets[108967] # Retina MNIST"
      ],
      "metadata": {
        "colab": {
          "base_uri": "https://localhost:8080/"
        },
        "id": "j2ITqGsHSvMr",
        "outputId": "14f314d5-2732-4b6f-daa9-481ef1b0d608"
      },
      "id": "j2ITqGsHSvMr",
      "execution_count": 12,
      "outputs": [
        {
          "output_type": "execute_result",
          "data": {
            "text/plain": [
              "(<PIL.Image.Image image mode=RGB size=28x28>, array([24]))"
            ]
          },
          "metadata": {},
          "execution_count": 12
        }
      ]
    },
    {
      "cell_type": "markdown",
      "source": [
        "# Subset + Data Augmentation"
      ],
      "metadata": {
        "id": "0-LDYE-HEXlv"
      },
      "id": "0-LDYE-HEXlv"
    },
    {
      "cell_type": "code",
      "source": [
        "subset_count = torch.arange(1080)\n",
        "\n",
        "path_subset_dataset = Subset(path_dataset, subset_count)\n",
        "blood_subset_dataset = Subset(blood_dataset, subset_count)\n",
        "derma_subset_dataset = Subset(derma_dataset, subset_count)"
      ],
      "metadata": {
        "id": "4Vj8gsXyERZI"
      },
      "id": "4Vj8gsXyERZI",
      "execution_count": 13,
      "outputs": []
    },
    {
      "cell_type": "code",
      "source": [
        "\n",
        "class AugmentedMNIST(Dataset):\n",
        "  def __init__(self, dataset, augmented_retina_list):\n",
        "    self.augmented_retina_list = augmented_retina_list\n",
        "    self.dataset = dataset\n",
        "\n",
        "  def __len__(self):\n",
        "    return len(self.dataset) + len(self.augmented_retina_list)\n",
        "\n",
        "  def __getitem__(self, idx):\n",
        "    if idx < len(self.dataset):\n",
        "      image, label = self.dataset[idx]\n",
        "    else:\n",
        "      image, label = self.augmented_retina_list[idx - len(self.dataset)]\n",
        "\n",
        "    return image, label\n",
        "\n",
        "def ApplyTransformation(dataset, transformation):\n",
        "  augmented_data_list = []\n",
        "\n",
        "  for i in range(len(dataset)):\n",
        "    img = dataset[i][0]\n",
        "    label = dataset[i][1]\n",
        "\n",
        "    img = transformation(img)\n",
        "    augmented_data_list.append([img, label])\n",
        "\n",
        "  return AugmentedMNIST(dataset, augmented_data_list)\n",
        "\n",
        "\n",
        "def DatasetAugmentation(dataset):\n",
        "\n",
        "  first_transformation = v2.Compose([\n",
        "      v2.Lambda(lambda img: v2.functional.rotate(img, angle=45.0)),\n",
        "      v2.ToDtype(torch.float32, scale=True),\n",
        "  ])\n",
        "\n",
        "  second_transformation = v2.Compose([\n",
        "      v2.ColorJitter(brightness=0.4, contrast=0.5,saturation=0.4,hue=0.3),\n",
        "      v2.ToDtype(torch.float32, scale=True),\n",
        "  ])\n",
        "\n",
        "  third_transformation = v2.Compose([\n",
        "      v2.GaussianBlur(kernel_size=(3, 3), sigma=(0.1, 2)),\n",
        "      v2.ToDtype(torch.float32, scale=True),\n",
        "  ])\n",
        "\n",
        "  augmented_dataset_1 = ApplyTransformation(dataset, first_transformation)\n",
        "  augmented_dataset_2 = ApplyTransformation(augmented_dataset_1, second_transformation)\n",
        "  augmented_dataset_3 = ApplyTransformation(augmented_dataset_2, third_transformation)\n",
        "\n",
        "\n",
        "  return augmented_dataset_3\n"
      ],
      "metadata": {
        "id": "PerwOpn7F1G6"
      },
      "id": "PerwOpn7F1G6",
      "execution_count": 14,
      "outputs": []
    },
    {
      "cell_type": "code",
      "source": [
        "augmented_path_dataset = DatasetAugmentation(path_subset_dataset)\n",
        "len(augmented_path_dataset)"
      ],
      "metadata": {
        "colab": {
          "base_uri": "https://localhost:8080/"
        },
        "id": "L3KnurNOMHK1",
        "outputId": "454c78c4-6cc0-4d0f-dc71-f25e32a6e189"
      },
      "id": "L3KnurNOMHK1",
      "execution_count": 15,
      "outputs": [
        {
          "output_type": "execute_result",
          "data": {
            "text/plain": [
              "8640"
            ]
          },
          "metadata": {},
          "execution_count": 15
        }
      ]
    },
    {
      "cell_type": "code",
      "source": [
        "fig, axs = plt.subplots(nrows=4, ncols=2, figsize=(7, 7),)\n",
        "axs[0, 0].set_title('Original')\n",
        "axs[0, 0].imshow(augmented_path_dataset[0][0])\n",
        "axs[0, 1].set_title('First Transformation')\n",
        "axs[0, 1].imshow(augmented_path_dataset[1080][0])\n",
        "axs[1, 0].set_title('2nd Transformation')\n",
        "axs[1, 0].imshow(augmented_path_dataset[2160][0])\n",
        "axs[1, 1].set_title('2nd Transformation')\n",
        "axs[1, 1].imshow(augmented_path_dataset[3240][0])\n",
        "axs[2, 0].set_title('3rd Transformation')\n",
        "axs[2, 0].imshow(augmented_path_dataset[4320][0])\n",
        "axs[2, 1].set_title('3rd Transformation')\n",
        "axs[2, 1].imshow(augmented_path_dataset[5400][0])\n",
        "axs[3, 0].set_title('3rd Transformation')\n",
        "axs[3, 0].imshow(augmented_path_dataset[6480][0])\n",
        "axs[3, 1].set_title('3rd Transformation')\n",
        "axs[3, 1].imshow(augmented_path_dataset[7560][0])"
      ],
      "metadata": {
        "colab": {
          "base_uri": "https://localhost:8080/",
          "height": 639
        },
        "id": "VMUi3QKgNhUk",
        "outputId": "eb087810-fa18-406f-9b27-883c8fcc34f9"
      },
      "id": "VMUi3QKgNhUk",
      "execution_count": 16,
      "outputs": [
        {
          "output_type": "execute_result",
          "data": {
            "text/plain": [
              "<matplotlib.image.AxesImage at 0x79a191567e10>"
            ]
          },
          "metadata": {},
          "execution_count": 16
        },
        {
          "output_type": "display_data",
          "data": {
            "text/plain": [
              "<Figure size 700x700 with 8 Axes>"
            ],
            "image/png": "[encoded data removed]"
          },
          "metadata": {}
        }
      ]
    },
    {
      "cell_type": "markdown",
      "source": [
        "# Concat Datasets"
      ],
      "metadata": {
        "id": "OxGMn7CfMrX1"
      },
      "id": "OxGMn7CfMrX1"
    },
    {
      "cell_type": "code",
      "source": [
        "def CountLabels(dataset):\n",
        "  unique_labels_count = {}\n",
        "  for i in range(len(dataset)):\n",
        "    label = dataset[i][1].item()\n",
        "    if label in unique_labels_count:\n",
        "      unique_labels_count[label] += 1\n",
        "    else:\n",
        "      unique_labels_count[label] = 1\n",
        "\n",
        "  return unique_labels_count"
      ],
      "metadata": {
        "id": "Pc2BXCtlEOxU"
      },
      "id": "Pc2BXCtlEOxU",
      "execution_count": 17,
      "outputs": []
    },
    {
      "cell_type": "code",
      "source": [
        "print(\"Labels of Subset Path : \" , CountLabels(path_subset_dataset))\n",
        "print(\"Labels of Subet Blood : \", CountLabels(blood_subset_dataset))\n",
        "print(\"Labels of Subset Derma : \", CountLabels(derma_subset_dataset))"
      ],
      "metadata": {
        "colab": {
          "base_uri": "https://localhost:8080/"
        },
        "id": "9pL6wtKmElxw",
        "outputId": "d44a7edf-50c8-4fb8-9de0-7be18b8ef032"
      },
      "id": "9pL6wtKmElxw",
      "execution_count": 18,
      "outputs": [
        {
          "output_type": "stream",
          "name": "stdout",
          "text": [
            "Labels of Subset Path :  {0: 114, 4: 98, 7: 102, 5: 157, 8: 136, 3: 144, 2: 114, 1: 125, 6: 90}\n",
            "Labels of Subet Blood :  {7: 141, 3: 214, 6: 204, 2: 105, 1: 179, 5: 96, 0: 68, 4: 73}\n",
            "Labels of Subset Derma :  {0: 41, 5: 695, 4: 148, 2: 112, 1: 53, 6: 22, 3: 9}\n"
          ]
        }
      ]
    },
    {
      "cell_type": "code",
      "source": [
        "print(\"Labels of Path  : \", CountLabels(path_dataset))\n",
        "print(\"Labels of Blood  : \", CountLabels(blood_dataset))\n",
        "print(\"Labels of Derma  : \", CountLabels(derma_dataset))"
      ],
      "metadata": {
        "colab": {
          "base_uri": "https://localhost:8080/"
        },
        "id": "aE3pSfoZF6eP",
        "outputId": "580d0aba-b311-4bc2-fa3f-949e5fc74ef0"
      },
      "id": "aE3pSfoZF6eP",
      "execution_count": 19,
      "outputs": [
        {
          "output_type": "stream",
          "name": "stdout",
          "text": [
            "Labels of Path  :  {0: 9366, 4: 8006, 7: 9401, 5: 12182, 8: 12885, 3: 10401, 2: 10360, 1: 9509, 6: 7886}\n",
            "Labels of Blood  :  {7: 1643, 3: 2026, 6: 2330, 2: 1085, 1: 2181, 5: 993, 0: 852, 4: 849}\n",
            "Labels of Derma  :  {0: 228, 5: 4693, 4: 779, 2: 769, 1: 359, 6: 99, 3: 80}\n"
          ]
        }
      ]
    },
    {
      "cell_type": "code",
      "source": [
        "class UpdateLabelsMNSIT(Dataset):\n",
        "  def __init__(self, dataset, labels_shift):\n",
        "    self.dataset = dataset\n",
        "    self.labels_shift = labels_shift\n",
        "\n",
        "  def __len__(self):\n",
        "    return len(self.dataset)\n",
        "\n",
        "  def __getitem__(self, idx):\n",
        "    image, label = self.dataset[idx]\n",
        "    label = label + self.labels_shift\n",
        "    return image, label\n",
        "\n",
        "updated_derma_dataset = UpdateLabelsMNSIT(blood_subset_dataset, 9)\n",
        "updated_blood_dataset = UpdateLabelsMNSIT(derma_subset_dataset, 16)\n",
        "updated_retina_dataset = UpdateLabelsMNSIT(retina_dataset, 24)"
      ],
      "metadata": {
        "id": "CZYf969_GiNj"
      },
      "id": "CZYf969_GiNj",
      "execution_count": 20,
      "outputs": []
    },
    {
      "cell_type": "code",
      "source": [
        "concat_datasets = torch.utils.data.ConcatDataset([path_subset_dataset, updated_derma_dataset, updated_blood_dataset, updated_retina_dataset])\n",
        "len(concat_datasets)"
      ],
      "metadata": {
        "colab": {
          "base_uri": "https://localhost:8080/"
        },
        "id": "vUC78NzwGzTs",
        "outputId": "346d1579-f005-4f29-fd60-f4bfa6ac5e0f"
      },
      "id": "vUC78NzwGzTs",
      "execution_count": 21,
      "outputs": [
        {
          "output_type": "execute_result",
          "data": {
            "text/plain": [
              "4320"
            ]
          },
          "metadata": {},
          "execution_count": 21
        }
      ]
    },
    {
      "cell_type": "code",
      "source": [
        "augmented_concat_datasets = DatasetAugmentation(concat_datasets)\n",
        "len(augmented_concat_datasets)"
      ],
      "metadata": {
        "colab": {
          "base_uri": "https://localhost:8080/"
        },
        "id": "O1AYqLfdH78f",
        "outputId": "1a1853af-8b86-4a83-c585-f484c39859e8"
      },
      "id": "O1AYqLfdH78f",
      "execution_count": 22,
      "outputs": [
        {
          "output_type": "execute_result",
          "data": {
            "text/plain": [
              "34560"
            ]
          },
          "metadata": {},
          "execution_count": 22
        }
      ]
    },
    {
      "cell_type": "code",
      "source": [
        "class ConcatMNIST(Dataset):\n",
        "  def __init__(self, concat_datasets):\n",
        "    self.concat_datasets = concat_datasets\n",
        "\n",
        "  def __len__(self):\n",
        "    return len(self.concat_datasets)\n",
        "\n",
        "  def __getitem__(self, idx):\n",
        "    image, label = self.concat_datasets[idx]\n",
        "    item = {'pixel_values' : image, 'labels' : label}\n",
        "    return item\n",
        "\n",
        "\n",
        "train_mnist_dataset = ConcatMNIST(augmented_concat_datasets)"
      ],
      "metadata": {
        "id": "mZFR3zStHB47"
      },
      "id": "mZFR3zStHB47",
      "execution_count": 23,
      "outputs": []
    },
    {
      "cell_type": "code",
      "source": [
        "train_mnist_dataset[0]"
      ],
      "metadata": {
        "colab": {
          "base_uri": "https://localhost:8080/"
        },
        "id": "0mBjGsyCHl7b",
        "outputId": "1f0f605c-56d1-4387-f4ed-299e3e761e9a"
      },
      "id": "0mBjGsyCHl7b",
      "execution_count": 24,
      "outputs": [
        {
          "output_type": "execute_result",
          "data": {
            "text/plain": [
              "{'pixel_values': <PIL.Image.Image image mode=RGB size=28x28>,\n",
              " 'labels': array([0])}"
            ]
          },
          "metadata": {},
          "execution_count": 24
        }
      ]
    },
    {
      "cell_type": "markdown",
      "source": [
        "# Testing Script"
      ],
      "metadata": {
        "id": "KhbszI-DK9Yu"
      },
      "id": "KhbszI-DK9Yu"
    },
    {
      "cell_type": "code",
      "source": [
        "from data_augmentation import ConcatDataset"
      ],
      "metadata": {
        "id": "u2HORDsjLIIy"
      },
      "id": "u2HORDsjLIIy",
      "execution_count": 25,
      "outputs": []
    },
    {
      "cell_type": "code",
      "source": [
        "new_augmented_concat_datasets = ConcatDataset(path_dataset, derma_dataset, blood_dataset, retina_dataset)"
      ],
      "metadata": {
        "id": "yZKylAYJLL60"
      },
      "id": "yZKylAYJLL60",
      "execution_count": 26,
      "outputs": []
    },
    {
      "cell_type": "code",
      "source": [
        "len(new_augmented_concat_datasets)"
      ],
      "metadata": {
        "colab": {
          "base_uri": "https://localhost:8080/"
        },
        "id": "DuFToQMgLYE1",
        "outputId": "442c2341-815b-428a-fe0c-fcb947627b3d"
      },
      "id": "DuFToQMgLYE1",
      "execution_count": 27,
      "outputs": [
        {
          "output_type": "execute_result",
          "data": {
            "text/plain": [
              "34560"
            ]
          },
          "metadata": {},
          "execution_count": 27
        }
      ]
    },
    {
      "cell_type": "code",
      "source": [
        "new_augmented_concat_datasets[34559][0]"
      ],
      "metadata": {
        "colab": {
          "base_uri": "https://localhost:8080/",
          "height": 45
        },
        "id": "hNxuCk_PLkfG",
        "outputId": "ee81e103-9592-4937-9bb6-a7effbdea5bd"
      },
      "id": "hNxuCk_PLkfG",
      "execution_count": 28,
      "outputs": [
        {
          "output_type": "execute_result",
          "data": {
            "text/plain": [
              "<PIL.Image.Image image mode=RGB size=28x28>"
            ],
            "image/png": "[encoded data removed]",
            "image/jpeg": "[encoded data removed]"
          },
          "metadata": {},
          "execution_count": 28
        }
      ]
    }
  ],
  "metadata": {
    "language_info": {
      "name": "python"
    },
    "colab": {
      "provenance": []
    },
    "kernelspec": {
      "name": "python3",
      "display_name": "Python 3"
    }
  },
  "nbformat": 4,
  "nbformat_minor": 5
}